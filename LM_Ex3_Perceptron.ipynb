{
 "cells": [
  {
   "cell_type": "markdown",
   "metadata": {},
   "source": [
    "# Ex3 - Perceptron"
   ]
  },
  {
   "cell_type": "markdown",
   "metadata": {},
   "source": [
    "### Imports"
   ]
  },
  {
   "cell_type": "code",
   "execution_count": 41,
   "metadata": {},
   "outputs": [],
   "source": [
    "import numpy as np\n",
    "import matplotlib.pyplot as plt"
   ]
  },
  {
   "cell_type": "markdown",
   "metadata": {},
   "source": [
    "### Perceptron"
   ]
  },
  {
   "cell_type": "code",
   "execution_count": 42,
   "metadata": {},
   "outputs": [],
   "source": [
    "class Perceptron:\n",
    "\n",
    "    def __init__(self, lr=0.5, epoch=25):\n",
    "        \"\"\"\n",
    "        :param lr: learning rate\n",
    "        :param epoch: Number of iterations\n",
    "        \"\"\"\n",
    "        \n",
    "        self.lr = lr\n",
    "        self.epoch = epoch\n",
    "\n",
    "        self.weights = None\n",
    "        self.cost = []\n",
    "\n",
    "    def activation(self, z):\n",
    "        return 1.0 if (z > 0) else -1.0\n",
    "    \n",
    "    def score(self):\n",
    "        samples, _ = X.shape\n",
    "        last_error = self.cost[len(self.cost) - 1]\n",
    "        return (1-last_error/samples)*100\n",
    "\n",
    "    def fit(self, X, y):\n",
    "        \"\"\"\n",
    "        X --> Inputs\n",
    "        y --> labels\n",
    "\n",
    "        m --> samples\n",
    "        n --> features\n",
    "        \n",
    "        self.weights --> Initializing n weights to zeros, +1 for bias\n",
    "        self.cost --> Empty list to store how many examples were mistakes at this iteration\n",
    "        \"\"\"\n",
    "        \n",
    "        m, n = X.shape\n",
    "        self.weights = np.zeros((n + 1, 1))\n",
    "        self.n_miss_list = []\n",
    "\n",
    "        # Training\n",
    "        for epoch in range(self.epoch):\n",
    "\n",
    "            # mistakes examples at this iteration.\n",
    "            error = 0\n",
    "\n",
    "            for idx, x_i in enumerate(X):\n",
    "\n",
    "                # Inserting 1 for bias, X0 = 1.\n",
    "                x_i = np.insert(x_i, 0, 1).reshape(-1, 1)\n",
    "\n",
    "                # Calculating prediction.\n",
    "                pred = self.activation(x_i.T @ self.weights)\n",
    "\n",
    "                # Updating wrong prediction.\n",
    "                if (np.squeeze(pred) - y[idx]) != 0:\n",
    "                    self.weights += self.lr * ((y[idx] - pred) * x_i)\n",
    "                    error += 1\n",
    "\n",
    "            self.cost.append(error)\n",
    "            \n",
    "        return self.weights"
   ]
  },
  {
   "cell_type": "markdown",
   "metadata": {},
   "source": [
    "### Perceptron Demo"
   ]
  },
  {
   "cell_type": "markdown",
   "metadata": {},
   "source": [
    "#### Read Data"
   ]
  },
  {
   "cell_type": "code",
   "execution_count": 43,
   "metadata": {},
   "outputs": [],
   "source": [
    "def readData(file_name):\n",
    "    data = np.genfromtxt(file_name, dtype=str, encoding=None, skip_footer=0)\n",
    "    X, y = data[:, :2], data[:, -1]\n",
    "    return X.astype(float), y.astype(float)"
   ]
  },
  {
   "cell_type": "code",
   "execution_count": 44,
   "metadata": {},
   "outputs": [],
   "source": [
    "X, y = readData('two_circle.txt')\n",
    "\n",
    "classifier = Perceptron()\n",
    "weights = classifier.fit(X, y)"
   ]
  },
  {
   "cell_type": "markdown",
   "metadata": {},
   "source": [
    "#### Weights"
   ]
  },
  {
   "cell_type": "code",
   "execution_count": 45,
   "metadata": {},
   "outputs": [
    {
     "name": "stdout",
     "output_type": "stream",
     "text": [
      "Weights Output Vector:\n",
      " [[ 0.  ]\n",
      " [-7.6 ]\n",
      " [ 7.81]]\n"
     ]
    }
   ],
   "source": [
    "print(\"Weights Output Vector:\\n\", weights)"
   ]
  },
  {
   "cell_type": "markdown",
   "metadata": {},
   "source": [
    "#### Scoure"
   ]
  },
  {
   "cell_type": "code",
   "execution_count": 46,
   "metadata": {},
   "outputs": [
    {
     "name": "stdout",
     "output_type": "stream",
     "text": [
      "Scoure:\n",
      " 100.0\n"
     ]
    }
   ],
   "source": [
    "scoure = classifier.score()\n",
    "\n",
    "print(\"Scoure:\\n\", scoure)"
   ]
  },
  {
   "cell_type": "markdown",
   "metadata": {},
   "source": [
    "#### Plotting"
   ]
  },
  {
   "cell_type": "code",
   "execution_count": 47,
   "metadata": {},
   "outputs": [],
   "source": [
    "x_ = [min(X[:,0]), max(X[:,0])]\n",
    "a = -weights[1] / weights[2]\n",
    "b = -weights[0] / weights[2]\n",
    "y_ = (a * x_) + b"
   ]
  },
  {
   "cell_type": "code",
   "execution_count": 48,
   "metadata": {},
   "outputs": [
    {
     "data": {
      "text/plain": [
       "[<matplotlib.lines.Line2D at 0x1fa571160b8>]"
      ]
     },
     "execution_count": 48,
     "metadata": {},
     "output_type": "execute_result"
    },
    {
     "data": {
      "image/png": "[encoded data removed]",
      "text/plain": [
       "<Figure size 720x576 with 1 Axes>"
      ]
     },
     "metadata": {
      "needs_background": "light"
     },
     "output_type": "display_data"
    }
   ],
   "source": [
    "fig = plt.figure(figsize=(10, 8))\n",
    "\n",
    "plt.plot(X[:, 0][y == -1], X[:, 1][y == -1], \"r*\")\n",
    "plt.plot(X[:, 0][y == 1], X[:, 1][y == 1], \"g^\")\n",
    "plt.title(\"Perceptron Algorithm\")\n",
    "plt.plot(x_, y_, 'b-')"
   ]
  },
  {
   "cell_type": "code",
   "execution_count": null,
   "metadata": {},
   "outputs": [],
   "source": []
  }
 ],
 "metadata": {
  "kernelspec": {
   "display_name": "Python 3 (ipykernel)",
   "language": "python",
   "name": "python3"
  },
  "language_info": {
   "codemirror_mode": {
    "name": "ipython",
    "version": 3
   },
   "file_extension": ".py",
   "mimetype": "text/x-python",
   "name": "python",
   "nbconvert_exporter": "python",
   "pygments_lexer": "ipython3",
   "version": "3.7.3"
  }
 },
 "nbformat": 4,
 "nbformat_minor": 2
}
